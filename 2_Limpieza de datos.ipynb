{
 "cells": [
  {
   "cell_type": "markdown",
   "id": "5d805c00",
   "metadata": {},
   "source": [
    "<h1>Limpieza de datos</h1>"
   ]
  },
  {
   "cell_type": "code",
   "execution_count": 35,
   "id": "edd9a33e-ed26-4eff-b53b-cfb47e5eebbe",
   "metadata": {},
   "outputs": [],
   "source": [
    "import pandas as pd\n",
    "import numpy as np\n",
    "from scipy import stats\n",
    "import matplotlib.pyplot as plt\n",
    "import seaborn as sns"
   ]
  },
  {
   "cell_type": "code",
   "execution_count": 36,
   "id": "823a09ba-65da-49ee-a02f-9cbe8766ba51",
   "metadata": {},
   "outputs": [],
   "source": [
    "# Cargar el archivo csv con la base de datos\n",
    "file_path = \"data_car_prices\\Armenian_Market_Car_Prices.csv\" # Ruta al archivo en tu sistema\n",
    "df = pd.read_csv(file_path)"
   ]
  },
  {
   "cell_type": "code",
   "execution_count": 37,
   "id": "da5e0b81",
   "metadata": {},
   "outputs": [],
   "source": [
    "# Aquí decidimos eliminar filas con valores faltantes.\n",
    "#df = df.dropna()\n",
    "#print(f\"Filas después de eliminar valores faltantes: {len(df)}\")"
   ]
  },
  {
   "cell_type": "code",
   "execution_count": 38,
   "id": "3dd00a78",
   "metadata": {},
   "outputs": [
    {
     "name": "stdout",
     "output_type": "stream",
     "text": [
      "\n",
      "Número de filas duplicadas: 9\n",
      "Filas duplicadas eliminadas.\n"
     ]
    }
   ],
   "source": [
    "# Revisión de datos: Casos duplicados\n",
    "duplicates = df.duplicated()\n",
    "num_duplicates = duplicates.sum()\n",
    "print(f\"\\nNúmero de filas duplicadas: {num_duplicates}\")\n",
    "if num_duplicates > 0:\n",
    "    df = df.drop_duplicates()\n",
    "    print(\"Filas duplicadas eliminadas.\")"
   ]
  },
  {
   "cell_type": "code",
   "execution_count": 39,
   "id": "749eca9f",
   "metadata": {},
   "outputs": [
    {
     "name": "stdout",
     "output_type": "stream",
     "text": [
      "\n",
      "Valores faltantes en cada columna:\n",
      "Car Name    0\n",
      "Year        0\n",
      "Region      0\n",
      "FuelType    0\n",
      "Mileage     0\n",
      "Price       0\n",
      "dtype: int64\n"
     ]
    }
   ],
   "source": [
    "# Revisión de datos: Valores faltantes\n",
    "missing_values = df.isnull().sum()\n",
    "print(\"\\nValores faltantes en cada columna:\")\n",
    "print(missing_values)\n"
   ]
  },
  {
   "cell_type": "code",
   "execution_count": 40,
   "id": "1203ddaa",
   "metadata": {},
   "outputs": [
    {
     "name": "stdout",
     "output_type": "stream",
     "text": [
      "Filas después de eliminar valores faltantes: 7986\n"
     ]
    }
   ],
   "source": [
    "# Aquí decidimos eliminar filas con valores faltantes.\n",
    "df = df.dropna()\n",
    "print(f\"Filas después de eliminar valores faltantes: {len(df)}\")"
   ]
  },
  {
   "cell_type": "code",
   "execution_count": 41,
   "id": "a37107e0",
   "metadata": {},
   "outputs": [
    {
     "name": "stdout",
     "output_type": "stream",
     "text": [
      "\n",
      "Número de outliers en 'Mileage': 104\n",
      "Número de outliers en 'Price': 482\n"
     ]
    }
   ],
   "source": [
    "# Análisis de outliers usando el método IQR (en el fondo es el centro de los datos de una distribucion normal)\n",
    "Q1 = df[['Mileage', 'Price']].quantile(0.25)\n",
    "Q3 = df[['Mileage', 'Price']].quantile(0.75)\n",
    "IQR = Q3 - Q1\n",
    "\n",
    "outliers = ((df[['Mileage', 'Price']] < (Q1 - 1.5 * IQR)) | (df[['Mileage', 'Price']] > (Q3 + 1.5 * IQR)))\n",
    "outliers_count = outliers.sum()\n",
    "print(f\"\\nNúmero de outliers en 'Mileage': {outliers_count['Mileage']}\")\n",
    "print(f\"Número de outliers en 'Price': {outliers_count['Price']}\")\n",
    "\n",
    "# Si bien segun el criterio de IQR se observan outliers, para la naturaleza de la variable es factible\n",
    "#que existan precios muy elevados. La naturaleza de la variable Precio no sigue una distribucion normal."
   ]
  },
  {
   "cell_type": "code",
   "execution_count": 43,
   "id": "5064ef97-d5ce-4154-8f52-a070e094099c",
   "metadata": {},
   "outputs": [],
   "source": [
    "# Guardar el archivo con los datos procesados\n",
    "data.to_csv(ruta, index=False)"
   ]
  }
 ],
 "metadata": {
  "kernelspec": {
   "display_name": "Python 3 (ipykernel)",
   "language": "python",
   "name": "python3"
  },
  "language_info": {
   "codemirror_mode": {
    "name": "ipython",
    "version": 3
   },
   "file_extension": ".py",
   "mimetype": "text/x-python",
   "name": "python",
   "nbconvert_exporter": "python",
   "pygments_lexer": "ipython3",
   "version": "3.11.7"
  }
 },
 "nbformat": 4,
 "nbformat_minor": 5
}
