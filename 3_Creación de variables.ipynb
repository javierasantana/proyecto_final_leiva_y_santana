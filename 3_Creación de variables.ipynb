{
 "cells": [
  {
   "cell_type": "markdown",
   "id": "5d805c00",
   "metadata": {},
   "source": [
    "<h1>Creación de variables</h1>"
   ]
  },
  {
   "cell_type": "code",
   "execution_count": 30,
   "id": "ffce9fc3-4973-4e62-8f78-e0c4956a40c2",
   "metadata": {},
   "outputs": [],
   "source": [
    "import pandas as pd\n",
    "import numpy as np\n",
    "from scipy import stats\n",
    "import matplotlib.pyplot as plt\n",
    "import seaborn as sns"
   ]
  },
  {
   "cell_type": "code",
   "execution_count": 31,
   "id": "4edb4b20-d68d-43ca-ae74-3d04f35fa973",
   "metadata": {},
   "outputs": [],
   "source": [
    "# Cargar el archivo csv con la base de datos\n",
    "file_path = \"data_car_prices\\Armenian_Market_Car_Prices_CLEAN.csv\" # Ruta al archivo en tu sistema\n",
    "df = pd.read_csv(file_path)"
   ]
  },
  {
   "cell_type": "code",
   "execution_count": 32,
   "id": "883e838b",
   "metadata": {},
   "outputs": [],
   "source": [
    "# Calcular los parámetros estadísticos para 'Mileage'\n",
    "mileage_mean = df['Mileage'].mean()\n",
    "mileage_median = df['Mileage'].median()\n",
    "mileage_mode = df['Mileage'].mode()[0]\n",
    "mileage_std = df['Mileage'].std()\n",
    "mileage_variance = df['Mileage'].var()"
   ]
  },
  {
   "cell_type": "code",
   "execution_count": 33,
   "id": "bf4e853f",
   "metadata": {},
   "outputs": [
    {
     "name": "stdout",
     "output_type": "stream",
     "text": [
      "\n",
      "Parámetros estadísticos de 'Mileage':\n",
      "Media: 146564.1383671425\n",
      "Mediana: 130000.0\n",
      "Moda: 200000\n",
      "Desviación Estándar: 108323.88741099896\n",
      "Varianza: 11734064583.830778\n"
     ]
    }
   ],
   "source": [
    "# Resumen de parámetros estadísticos 'Mileage'\n",
    "print(\"\\nParámetros estadísticos de 'Mileage':\")\n",
    "print(f\"Media: {mileage_mean}\")\n",
    "print(f\"Mediana: {mileage_median}\")\n",
    "print(f\"Moda: {mileage_mode}\")\n",
    "print(f\"Desviación Estándar: {mileage_std}\")\n",
    "print(f\"Varianza: {mileage_variance}\")"
   ]
  },
  {
   "cell_type": "code",
   "execution_count": 34,
   "id": "944cf257",
   "metadata": {},
   "outputs": [],
   "source": [
    "# Calcular los parámetros estadísticos para 'Price'\n",
    "price_mean = df['Price'].mean()\n",
    "price_median = df['Price'].median()\n",
    "price_mode = df['Price'].mode()[0]\n",
    "price_std = df['Price'].std()\n",
    "price_variance = df['Price'].var()"
   ]
  },
  {
   "cell_type": "code",
   "execution_count": 35,
   "id": "ea1a6028",
   "metadata": {},
   "outputs": [
    {
     "name": "stdout",
     "output_type": "stream",
     "text": [
      "\n",
      "Parámetros estadísticos de 'Price':\n",
      "Media: 15536.595041322315\n",
      "Mediana: 11500.0\n",
      "Moda: 4000\n",
      "Desviación Estándar: 17732.23046210553\n",
      "Varianza: 314431997.16122335\n"
     ]
    }
   ],
   "source": [
    "#Resumen de parámetros estadísticos para 'Price'\n",
    "print(\"\\nParámetros estadísticos de 'Price':\")\n",
    "print(f\"Media: {price_mean}\")\n",
    "print(f\"Mediana: {price_median}\")\n",
    "print(f\"Moda: {price_mode}\")\n",
    "print(f\"Desviación Estándar: {price_std}\")\n",
    "print(f\"Varianza: {price_variance}\")"
   ]
  },
  {
   "cell_type": "code",
   "execution_count": 36,
   "id": "cce0c9b5-eba5-47ef-b17c-5a1632bbae28",
   "metadata": {},
   "outputs": [],
   "source": [
    "# Crear las nuevas columnas\n",
    "df['Marca'] = df['Car Name'].apply(lambda x: x.split()[0])\n",
    "df['Name'] = df['Car Name'].apply(lambda x: ' '.join(x.split()[1:]))"
   ]
  },
  {
   "cell_type": "code",
   "execution_count": 37,
   "id": "f918fe31",
   "metadata": {
    "scrolled": true
   },
   "outputs": [],
   "source": [
    "# Generar dos nuevas columnas 'Marca' y 'Name' a partir de 'Car Name'\n",
    "#df[['Marca', 'Name']] = df['Car Name'].str.split(' ', 1, expand=True)"
   ]
  },
  {
   "cell_type": "code",
   "execution_count": 38,
   "id": "6eaabd94",
   "metadata": {},
   "outputs": [],
   "source": [
    "# Eliminar la columna original 'Car Name', ya que la informacion esta mejor desplegada en dos set\n",
    "df = df.drop(columns=['Car Name'])"
   ]
  },
  {
   "cell_type": "code",
   "execution_count": 39,
   "id": "e872df3e",
   "metadata": {},
   "outputs": [
    {
     "name": "stdout",
     "output_type": "stream",
     "text": [
      "\n",
      "Primeras filas del dataset con las nuevas columnas \n",
      "   Year    Region  FuelType  Mileage  Price  Marca     Name\n",
      "0  2002     Goris    Diesel   215000  12000   Ford  Transit\n",
      "1  2017    Ijevan  Gasoline    72000  11500   Ford    Focus\n",
      "2  1998   Armavir  Gasoline   466000   4000   Opel   Vectra\n",
      "3  2020  Nor Nork  Gasoline   100000  22000  Mazda        6\n",
      "4  1998   Armavir  Gasoline   318000   3500   Opel   Vectra\n"
     ]
    }
   ],
   "source": [
    "# Mostrar las primeras filas del dataframe modificado para verificar las nuevas columnas\n",
    "print(\"\\nPrimeras filas del dataset con las nuevas columnas \")\n",
    "print(df.head())"
   ]
  },
  {
   "cell_type": "code",
   "execution_count": 40,
   "id": "c65a827e-beba-4201-9676-6e503762f9ee",
   "metadata": {},
   "outputs": [],
   "source": [
    "# Guardar el archivo con las nuevas columnas\n",
    "df.to_csv(\"data_car_prices\\Armenian_Market_Car_Prices_NEWCOLUMNS.csv\", index=False)"
   ]
  }
 ],
 "metadata": {
  "kernelspec": {
   "display_name": "Python 3 (ipykernel)",
   "language": "python",
   "name": "python3"
  },
  "language_info": {
   "codemirror_mode": {
    "name": "ipython",
    "version": 3
   },
   "file_extension": ".py",
   "mimetype": "text/x-python",
   "name": "python",
   "nbconvert_exporter": "python",
   "pygments_lexer": "ipython3",
   "version": "3.11.7"
  }
 },
 "nbformat": 4,
 "nbformat_minor": 5
}
