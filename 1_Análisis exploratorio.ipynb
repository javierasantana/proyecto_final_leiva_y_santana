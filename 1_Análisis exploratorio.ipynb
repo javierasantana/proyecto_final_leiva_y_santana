{
 "cells": [
  {
   "cell_type": "markdown",
   "id": "5d805c00",
   "metadata": {},
   "source": [
    "<h1>Análisis Exploratorio</h1>"
   ]
  },
  {
   "cell_type": "code",
   "execution_count": 9,
   "id": "9824d612",
   "metadata": {},
   "outputs": [],
   "source": [
    "import pandas as pd\n",
    "import numpy as np\n",
    "from scipy import stats\n",
    "import matplotlib.pyplot as plt\n",
    "import seaborn as sns"
   ]
  },
  {
   "cell_type": "code",
   "execution_count": 10,
   "id": "12debd47",
   "metadata": {},
   "outputs": [],
   "source": [
    "# Cargar el archivo csv con la base de datos\n",
    "file_path = \"data_car_prices\\Armenian_Market_Car_Prices.csv\" # Ruta al archivo en tu sistema\n",
    "df = pd.read_csv(file_path)"
   ]
  },
  {
   "cell_type": "code",
   "execution_count": 11,
   "id": "1729d9d5",
   "metadata": {},
   "outputs": [
    {
     "name": "stdout",
     "output_type": "stream",
     "text": [
      "Primeras filas del dataset:\n",
      "       Car Name  Year    Region  FuelType  Mileage  Price\n",
      "0  Ford Transit  2002     Goris    Diesel   215000  12000\n",
      "1    Ford Focus  2017    Ijevan  Gasoline    72000  11500\n",
      "2   Opel Vectra  1998   Armavir  Gasoline   466000   4000\n",
      "3       Mazda 6  2020  Nor Nork  Gasoline   100000  22000\n",
      "4   Opel Vectra  1998   Armavir  Gasoline   318000   3500\n"
     ]
    }
   ],
   "source": [
    "# Mostrar las primeras filas del dataset para entender su estructura\n",
    "print(\"Primeras filas del dataset:\")\n",
    "print(df.head())"
   ]
  },
  {
   "cell_type": "code",
   "execution_count": 5,
   "id": "8bc45020",
   "metadata": {},
   "outputs": [
    {
     "name": "stdout",
     "output_type": "stream",
     "text": [
      "\n",
      "Tipos de datos de cada columna:\n",
      "Car Name    object\n",
      "Year         int64\n",
      "Region      object\n",
      "FuelType    object\n",
      "Mileage      int64\n",
      "Price        int64\n",
      "dtype: object\n"
     ]
    }
   ],
   "source": [
    "# Comprobación del tipo de datos de cada variable\n",
    "print(\"\\nTipos de datos de cada columna:\")\n",
    "print(df.dtypes)"
   ]
  },
  {
   "cell_type": "code",
   "execution_count": 6,
   "id": "d0c7d6c7",
   "metadata": {},
   "outputs": [],
   "source": [
    "#Variable 'Car Name'(string): Representa la marca y nombre del auto separadas por un espacio ' '\n",
    "#Variable 'Year'(int): Representa el año del auto\n",
    "#Variable 'Region'(string): Representa la región de procedencia del auto\n",
    "#Variable 'FuelType'(string): Representa el tipo de combustible\n",
    "#Variable 'Milage'(int):Representa las millas del auto\n",
    "#Variable 'Price'(int):Representa el precio del auto"
   ]
  }
 ],
 "metadata": {
  "kernelspec": {
   "display_name": "Python 3 (ipykernel)",
   "language": "python",
   "name": "python3"
  },
  "language_info": {
   "codemirror_mode": {
    "name": "ipython",
    "version": 3
   },
   "file_extension": ".py",
   "mimetype": "text/x-python",
   "name": "python",
   "nbconvert_exporter": "python",
   "pygments_lexer": "ipython3",
   "version": "3.11.7"
  }
 },
 "nbformat": 4,
 "nbformat_minor": 5
}
